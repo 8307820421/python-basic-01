{
 "cells": [
  {
   "cell_type": "code",
   "execution_count": 1,
   "id": "755c70ae",
   "metadata": {},
   "outputs": [
    {
     "name": "stdout",
     "output_type": "stream",
     "text": [
      "hello world\n"
     ]
    }
   ],
   "source": [
    "print('hello world')"
   ]
  },
  {
   "cell_type": "code",
   "execution_count": 2,
   "id": "d75d0c6d",
   "metadata": {},
   "outputs": [
    {
     "name": "stdout",
     "output_type": "stream",
     "text": [
      "hello world baby\n"
     ]
    }
   ],
   "source": [
    "print(\"hello world baby\")"
   ]
  },
  {
   "cell_type": "code",
   "execution_count": 4,
   "id": "b598a3b2",
   "metadata": {},
   "outputs": [
    {
     "name": "stdout",
     "output_type": "stream",
     "text": [
      "hello world's famous book\n"
     ]
    }
   ],
   "source": [
    "print(\"hello world's famous book\")"
   ]
  },
  {
   "cell_type": "code",
   "execution_count": 5,
   "id": "7e11cbe9",
   "metadata": {},
   "outputs": [
    {
     "name": "stdout",
     "output_type": "stream",
     "text": [
      "hello bro\n"
     ]
    }
   ],
   "source": [
    "print('''hello bro''')"
   ]
  },
  {
   "cell_type": "code",
   "execution_count": 7,
   "id": "829cebe6",
   "metadata": {},
   "outputs": [
    {
     "name": "stdout",
     "output_type": "stream",
     "text": [
      "123\n"
     ]
    }
   ],
   "source": [
    "print(\"123\")"
   ]
  },
  {
   "cell_type": "code",
   "execution_count": 8,
   "id": "b6d2b468",
   "metadata": {},
   "outputs": [
    {
     "name": "stdout",
     "output_type": "stream",
     "text": [
      "123\n"
     ]
    }
   ],
   "source": [
    "print('123')"
   ]
  },
  {
   "cell_type": "code",
   "execution_count": 2,
   "id": "184b6e3d",
   "metadata": {},
   "outputs": [
    {
     "ename": "SyntaxError",
     "evalue": "EOL while scanning string literal (1216616388.py, line 1)",
     "output_type": "error",
     "traceback": [
      "\u001b[1;36m  Input \u001b[1;32mIn [2]\u001b[1;36m\u001b[0m\n\u001b[1;33m    Print(\"hello bhai''\"\")\u001b[0m\n\u001b[1;37m                          ^\u001b[0m\n\u001b[1;31mSyntaxError\u001b[0m\u001b[1;31m:\u001b[0m EOL while scanning string literal\n"
     ]
    }
   ],
   "source": [
    "Print(\"hello bhai''\"\")"
   ]
  },
  {
   "cell_type": "markdown",
   "id": "a198251a",
   "metadata": {},
   "source": [
    "# DATA TYPES AND VARIABLES"
   ]
  },
  {
   "cell_type": "markdown",
   "id": "fbd0357d",
   "metadata": {},
   "source": [
    "# Variables"
   ]
  },
  {
   "cell_type": "code",
   "execution_count": 7,
   "id": "3634705d",
   "metadata": {},
   "outputs": [
    {
     "name": "stdout",
     "output_type": "stream",
     "text": [
      "5\n"
     ]
    }
   ],
   "source": [
    "c=5\n",
    "print "
   ]
  },
  {
   "cell_type": "markdown",
   "id": "4013bbee",
   "metadata": {},
   "source": [
    "# Data types"
   ]
  },
  {
   "cell_type": "code",
   "execution_count": 8,
   "id": "279e971d",
   "metadata": {},
   "outputs": [],
   "source": [
    "#Integer\n",
    "#float\n",
    "#boolean\n",
    "#string\n",
    "#complex"
   ]
  },
  {
   "cell_type": "code",
   "execution_count": 11,
   "id": "401cca67",
   "metadata": {},
   "outputs": [
    {
     "name": "stdout",
     "output_type": "stream",
     "text": [
      "5\n"
     ]
    },
    {
     "data": {
      "text/plain": [
       "int"
      ]
     },
     "execution_count": 11,
     "metadata": {},
     "output_type": "execute_result"
    }
   ],
   "source": [
    "#Integer\n",
    "a=5\n",
    "print(a)\n",
    "type(a)"
   ]
  },
  {
   "cell_type": "code",
   "execution_count": 12,
   "id": "9c5e9cb4",
   "metadata": {},
   "outputs": [
    {
     "name": "stdout",
     "output_type": "stream",
     "text": [
      "-11.4\n"
     ]
    },
    {
     "data": {
      "text/plain": [
       "float"
      ]
     },
     "execution_count": 12,
     "metadata": {},
     "output_type": "execute_result"
    }
   ],
   "source": [
    "#float\n",
    "x=-11.4\n",
    "print(x)\n",
    "type(x)"
   ]
  },
  {
   "cell_type": "code",
   "execution_count": 13,
   "id": "51bc8fd4",
   "metadata": {},
   "outputs": [],
   "source": [
    "# Print functionis depend on your choice . you can refer only type to know about data types."
   ]
  },
  {
   "cell_type": "code",
   "execution_count": 15,
   "id": "9710973e",
   "metadata": {},
   "outputs": [
    {
     "name": "stdout",
     "output_type": "stream",
     "text": [
      "bahubali @ 123 gmail.com\n"
     ]
    },
    {
     "data": {
      "text/plain": [
       "str"
      ]
     },
     "execution_count": 15,
     "metadata": {},
     "output_type": "execute_result"
    }
   ],
   "source": [
    "# STRING\n",
    "x='bahubali @ 123 gmail.com'  #anything writeen in single caoutes like sequence of characters,numbers,special character represent\n",
    "print(x)                      #string\n",
    "type(x)"
   ]
  },
  {
   "cell_type": "markdown",
   "id": "85ccb6a2",
   "metadata": {},
   "source": [
    "# Boolen data types:A boolen data types may be true or false that is already                                           defined in python."
   ]
  },
  {
   "cell_type": "code",
   "execution_count": 16,
   "id": "446c042a",
   "metadata": {},
   "outputs": [
    {
     "name": "stdout",
     "output_type": "stream",
     "text": [
      "sonu tiwari\n"
     ]
    }
   ],
   "source": [
    "a='sonu tiwari'\n",
    "print(a)"
   ]
  },
  {
   "cell_type": "code",
   "execution_count": 17,
   "id": "8571b9bc",
   "metadata": {},
   "outputs": [
    {
     "ename": "SyntaxError",
     "evalue": "invalid syntax (1141920070.py, line 1)",
     "output_type": "error",
     "traceback": [
      "\u001b[1;36m  Input \u001b[1;32mIn [17]\u001b[1;36m\u001b[0m\n\u001b[1;33m    a=sonu tiwari\u001b[0m\n\u001b[1;37m           ^\u001b[0m\n\u001b[1;31mSyntaxError\u001b[0m\u001b[1;31m:\u001b[0m invalid syntax\n"
     ]
    }
   ],
   "source": [
    "a=sonu tiwari   #error occur because of not using single caoutes.\n",
    "print(a)      "
   ]
  },
  {
   "cell_type": "code",
   "execution_count": 24,
   "id": "bd747a96",
   "metadata": {},
   "outputs": [
    {
     "name": "stdout",
     "output_type": "stream",
     "text": [
      "true\n"
     ]
    },
    {
     "data": {
      "text/plain": [
       "str"
      ]
     },
     "execution_count": 24,
     "metadata": {},
     "output_type": "execute_result"
    }
   ],
   "source": [
    "a='true'\n",
    "print(a)\n",
    "type(a)"
   ]
  },
  {
   "cell_type": "code",
   "execution_count": 36,
   "id": "8cb6f3ff",
   "metadata": {},
   "outputs": [
    {
     "name": "stdout",
     "output_type": "stream",
     "text": [
      "True\n"
     ]
    },
    {
     "data": {
      "text/plain": [
       "bool"
      ]
     },
     "execution_count": 36,
     "metadata": {},
     "output_type": "execute_result"
    }
   ],
   "source": [
    "a=True    # the first letter of true is capital as well as in case of false\n",
    "print(a)   # python is case sensitive.\n",
    "type(a)"
   ]
  },
  {
   "cell_type": "markdown",
   "id": "1cee0cbc",
   "metadata": {},
   "source": [
    "# Complex data types:a+ib\n",
    "# a is real part ,b is imaginary part.\n",
    "# In python we use j with imajinary part,so form like a+jb.\n"
   ]
  },
  {
   "cell_type": "code",
   "execution_count": 38,
   "id": "9645abff",
   "metadata": {},
   "outputs": [
    {
     "ename": "NameError",
     "evalue": "name 'i6' is not defined",
     "output_type": "error",
     "traceback": [
      "\u001b[1;31m---------------------------------------------------------------------------\u001b[0m",
      "\u001b[1;31mNameError\u001b[0m                                 Traceback (most recent call last)",
      "Input \u001b[1;32mIn [38]\u001b[0m, in \u001b[0;36m<cell line: 1>\u001b[1;34m()\u001b[0m\n\u001b[1;32m----> 1\u001b[0m x\u001b[38;5;241m=\u001b[39m\u001b[38;5;241m2\u001b[39m\u001b[38;5;241m+\u001b[39m\u001b[43mi6\u001b[49m\n\u001b[0;32m      2\u001b[0m \u001b[38;5;28mprint\u001b[39m(x)\n",
      "\u001b[1;31mNameError\u001b[0m: name 'i6' is not defined"
     ]
    }
   ],
   "source": [
    "x=2+i6\n",
    "print(x)"
   ]
  },
  {
   "cell_type": "code",
   "execution_count": 39,
   "id": "70a48029",
   "metadata": {},
   "outputs": [
    {
     "ename": "NameError",
     "evalue": "name 'j6' is not defined",
     "output_type": "error",
     "traceback": [
      "\u001b[1;31m---------------------------------------------------------------------------\u001b[0m",
      "\u001b[1;31mNameError\u001b[0m                                 Traceback (most recent call last)",
      "Input \u001b[1;32mIn [39]\u001b[0m, in \u001b[0;36m<cell line: 1>\u001b[1;34m()\u001b[0m\n\u001b[1;32m----> 1\u001b[0m x\u001b[38;5;241m=\u001b[39m\u001b[38;5;241m2\u001b[39m\u001b[38;5;241m+\u001b[39m\u001b[43mj6\u001b[49m\n\u001b[0;32m      2\u001b[0m \u001b[38;5;28mprint\u001b[39m(x)\n",
      "\u001b[1;31mNameError\u001b[0m: name 'j6' is not defined"
     ]
    }
   ],
   "source": [
    "x=2+j6\n",
    "print(x)"
   ]
  },
  {
   "cell_type": "code",
   "execution_count": 40,
   "id": "11055a21",
   "metadata": {},
   "outputs": [
    {
     "name": "stdout",
     "output_type": "stream",
     "text": [
      "(2+6j)\n"
     ]
    }
   ],
   "source": [
    "x=2+6j\n",
    "print(x)"
   ]
  },
  {
   "cell_type": "code",
   "execution_count": 41,
   "id": "a9d5cd0e",
   "metadata": {},
   "outputs": [
    {
     "data": {
      "text/plain": [
       "complex"
      ]
     },
     "execution_count": 41,
     "metadata": {},
     "output_type": "execute_result"
    }
   ],
   "source": [
    "type(x)"
   ]
  },
  {
   "cell_type": "markdown",
   "id": "f5ef928d",
   "metadata": {},
   "source": [
    "# Some difference:"
   ]
  },
  {
   "cell_type": "code",
   "execution_count": 45,
   "id": "bdedf838",
   "metadata": {},
   "outputs": [
    {
     "name": "stdout",
     "output_type": "stream",
     "text": [
      "123\n"
     ]
    },
    {
     "data": {
      "text/plain": [
       "str"
      ]
     },
     "execution_count": 45,
     "metadata": {},
     "output_type": "execute_result"
    }
   ],
   "source": [
    "print('123')\n",
    "type('123')"
   ]
  },
  {
   "cell_type": "code",
   "execution_count": 46,
   "id": "f947b5ea",
   "metadata": {},
   "outputs": [
    {
     "name": "stdout",
     "output_type": "stream",
     "text": [
      "123 123\n"
     ]
    }
   ],
   "source": [
    "a=123\n",
    "b='123'\n",
    "print(a,b)"
   ]
  },
  {
   "cell_type": "code",
   "execution_count": 48,
   "id": "09315f63",
   "metadata": {},
   "outputs": [
    {
     "data": {
      "text/plain": [
       "int"
      ]
     },
     "execution_count": 48,
     "metadata": {},
     "output_type": "execute_result"
    }
   ],
   "source": [
    "type(a)\n"
   ]
  },
  {
   "cell_type": "code",
   "execution_count": 49,
   "id": "a3b1e6a9",
   "metadata": {},
   "outputs": [
    {
     "data": {
      "text/plain": [
       "str"
      ]
     },
     "execution_count": 49,
     "metadata": {},
     "output_type": "execute_result"
    }
   ],
   "source": [
    "type(b)"
   ]
  },
  {
   "cell_type": "markdown",
   "id": "4ac42364",
   "metadata": {},
   "source": [
    "# PROGRAMS:-"
   ]
  },
  {
   "cell_type": "code",
   "execution_count": 51,
   "id": "c1a40730",
   "metadata": {},
   "outputs": [],
   "source": [
    "#  Swaap to add to add two numbers.\n",
    "#  Swap to swap two numbers(change two numbers).\n",
    "#     Condition1:use third variable \n",
    "#          Condition2:without using third variable."
   ]
  },
  {
   "cell_type": "code",
   "execution_count": 54,
   "id": "fd17ee77",
   "metadata": {},
   "outputs": [
    {
     "name": "stdout",
     "output_type": "stream",
     "text": [
      "10\n"
     ]
    }
   ],
   "source": [
    "    a=9 #using third variable.\n",
    "    b=1\n",
    "    c=a+b\n",
    "    print(c)"
   ]
  },
  {
   "cell_type": "code",
   "execution_count": 56,
   "id": "38840fe3",
   "metadata": {},
   "outputs": [
    {
     "name": "stdout",
     "output_type": "stream",
     "text": [
      "before swaping 10 2\n",
      "after sapping 2 10\n"
     ]
    }
   ],
   "source": [
    "a=10  # swaping two number using third variable\n",
    "b=2\n",
    "print('before swaping',a,b)\n",
    "c=a\n",
    "a=b\n",
    "b=c\n",
    "print('after sapping',a,b)"
   ]
  },
  {
   "cell_type": "code",
   "execution_count": 57,
   "id": "0578ac06",
   "metadata": {},
   "outputs": [
    {
     "name": "stdout",
     "output_type": "stream",
     "text": [
      "4 9\n"
     ]
    }
   ],
   "source": [
    "a=9  # swpping two number without using third variable\n",
    "b=4\n",
    "a,b=b,a\n",
    "print(a,b)"
   ]
  },
  {
   "cell_type": "code",
   "execution_count": 58,
   "id": "87680708",
   "metadata": {},
   "outputs": [
    {
     "name": "stdout",
     "output_type": "stream",
     "text": [
      "4\n"
     ]
    }
   ],
   "source": [
    "a=8\n",
    "b=-4\n",
    "print(a+b)"
   ]
  },
  {
   "cell_type": "markdown",
   "id": "40695406",
   "metadata": {},
   "source": [
    "# PYHON WORK ON DYNAMIC MEMORY LOCATION(UPDATED OUTPUT)"
   ]
  },
  {
   "cell_type": "code",
   "execution_count": 60,
   "id": "1f099694",
   "metadata": {},
   "outputs": [
    {
     "name": "stdout",
     "output_type": "stream",
     "text": [
      "88\n"
     ]
    }
   ],
   "source": [
    "x=78   #  python work on updated output.\n",
    "x=88  \n",
    "print(x)\n"
   ]
  },
  {
   "cell_type": "code",
   "execution_count": 61,
   "id": "55499458",
   "metadata": {},
   "outputs": [
    {
     "name": "stdout",
     "output_type": "stream",
     "text": [
      "15\n"
     ]
    }
   ],
   "source": [
    "u=3\n",
    "v=5\n",
    "print(u*v)"
   ]
  },
  {
   "cell_type": "code",
   "execution_count": 62,
   "id": "0feeb2ee",
   "metadata": {},
   "outputs": [
    {
     "name": "stdout",
     "output_type": "stream",
     "text": [
      "40\n"
     ]
    }
   ],
   "source": [
    "u=5\n",
    "v=8\n",
    "m=u*v\n",
    "print(m)"
   ]
  },
  {
   "cell_type": "code",
   "execution_count": 63,
   "id": "51f5ee68",
   "metadata": {},
   "outputs": [
    {
     "name": "stdout",
     "output_type": "stream",
     "text": [
      "-2\n",
      "8\n"
     ]
    }
   ],
   "source": [
    "u=2\n",
    "v=4\n",
    "m=u*v\n",
    "m=u-v\n",
    "print(m)\n",
    "x=u\n",
    "u=v\n",
    "v=x\n",
    "m=(u*v)\n",
    "print(m)"
   ]
  },
  {
   "cell_type": "markdown",
   "id": "39d3d84e",
   "metadata": {},
   "source": [
    "# Program for division : \n",
    "# // double division sign used to obtained quoitent.\n",
    "#  % sign used for obtaining reminder."
   ]
  },
  {
   "cell_type": "code",
   "execution_count": 1,
   "id": "3733fa46",
   "metadata": {},
   "outputs": [
    {
     "name": "stdout",
     "output_type": "stream",
     "text": [
      "2\n"
     ]
    }
   ],
   "source": [
    "x=6\n",
    "y=3\n",
    "c=x//y\n",
    "print(c)"
   ]
  },
  {
   "cell_type": "code",
   "execution_count": 3,
   "id": "fcd0aa0a",
   "metadata": {},
   "outputs": [
    {
     "name": "stdout",
     "output_type": "stream",
     "text": [
      "1\n"
     ]
    }
   ],
   "source": [
    "a=3\n",
    "b=2\n",
    "c=a/b\n",
    "c=a//b  # python takes updated value\n",
    "print(c)"
   ]
  },
  {
   "cell_type": "code",
   "execution_count": 4,
   "id": "af0e426c",
   "metadata": {},
   "outputs": [
    {
     "name": "stdout",
     "output_type": "stream",
     "text": [
      "5.0\n"
     ]
    }
   ],
   "source": [
    "x=40\n",
    "y=8\n",
    "c=x/y  # single modulus gives us float type \n",
    "print(c)"
   ]
  },
  {
   "cell_type": "markdown",
   "id": "b62657e0",
   "metadata": {},
   "source": [
    "# Python takes absolute value .\n",
    "# variable takes different.\n",
    "# Python does not perform many operation with one variable."
   ]
  },
  {
   "cell_type": "code",
   "execution_count": 1,
   "id": "a84bd7f7",
   "metadata": {},
   "outputs": [
    {
     "name": "stdout",
     "output_type": "stream",
     "text": [
      "3\n"
     ]
    }
   ],
   "source": [
    "a=8   # To represent reminder.\n",
    "b=5\n",
    "c=a%b\n",
    "print(c)"
   ]
  },
  {
   "cell_type": "code",
   "execution_count": 2,
   "id": "6e4424bc",
   "metadata": {},
   "outputs": [
    {
     "name": "stdout",
     "output_type": "stream",
     "text": [
      "0\n"
     ]
    }
   ],
   "source": [
    "a=45\n",
    "b=45\n",
    "c=a%b\n",
    "print(c)"
   ]
  }
 ],
 "metadata": {
  "kernelspec": {
   "display_name": "Python 3 (ipykernel)",
   "language": "python",
   "name": "python3"
  },
  "language_info": {
   "codemirror_mode": {
    "name": "ipython",
    "version": 3
   },
   "file_extension": ".py",
   "mimetype": "text/x-python",
   "name": "python",
   "nbconvert_exporter": "python",
   "pygments_lexer": "ipython3",
   "version": "3.9.12"
  }
 },
 "nbformat": 4,
 "nbformat_minor": 5
}
